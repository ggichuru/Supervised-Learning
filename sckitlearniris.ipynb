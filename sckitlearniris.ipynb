{
 "cells": [
  {
   "cell_type": "code",
   "execution_count": 4,
   "metadata": {},
   "outputs": [],
   "source": [
    "from sklearn import datasets\n",
    "from sklearn.neighbors import KNeighborsClassifier\n",
    "import pandas as pd\n",
    "import matplotlib.pyplot as plt\n"
   ]
  },
  {
   "cell_type": "code",
   "execution_count": 5,
   "metadata": {},
   "outputs": [
    {
     "name": "stdout",
     "output_type": "stream",
     "text": [
      "dataset Type:  <class 'sklearn.utils.Bunch'>\n",
      "dataset Keys:  dict_keys(['data', 'target', 'frame', 'target_names', 'DESCR', 'feature_names', 'filename'])\n",
      "dataset Type (data and target):  <class 'numpy.ndarray'> <class 'numpy.ndarray'>\n",
      "dataset shape:  (150, 4)\n",
      "dataset target names:  ['setosa' 'versicolor' 'virginica']\n"
     ]
    }
   ],
   "source": [
    "#get the iris dataset\n",
    "iris = datasets.load_iris()\n",
    "\n",
    "print (\"dataset Type: \", type(iris))\n",
    "print (\"dataset Keys: \",iris.keys())\n",
    "print (\"dataset Type (data and target): \",type(iris.data), type(iris.target))\n",
    "print (\"dataset shape: \",iris.data.shape)\n",
    "print (\"dataset target names: \",iris.target_names)"
   ]
  },
  {
   "cell_type": "code",
   "execution_count": 6,
   "metadata": {},
   "outputs": [
    {
     "name": "stdout",
     "output_type": "stream",
     "text": [
      "   sepal length (cm)  sepal width (cm)  petal length (cm)  petal width (cm)\n",
      "0                5.1               3.5                1.4               0.2\n",
      "1                4.9               3.0                1.4               0.2\n",
      "2                4.7               3.2                1.3               0.2\n",
      "3                4.6               3.1                1.5               0.2\n",
      "4                5.0               3.6                1.4               0.2\n"
     ]
    }
   ],
   "source": [
    "#Load Train set and target set\n",
    "X = iris.data\n",
    "Y = iris.target\n",
    " \n",
    "#convert the dataset into a dataframe\n",
    "df = pd.DataFrame(X, columns=iris.feature_names)\n",
    "print (df.head()) #prints the first five tuples of the dataframe"
   ]
  },
  {
   "cell_type": "code",
   "execution_count": 8,
   "metadata": {},
   "outputs": [
    {
     "name": "stdout",
     "output_type": "stream",
     "text": [
      "Training data:\t [[5.9, 1.0, 5.1, 1.8], [3.4, 2.0, 1.1, 4.8]]\n",
      "Prediction class label:\t\n"
     ]
    }
   ],
   "source": [
    "#Declare the Classifier class with a value of its neighbor\n",
    "knn = KNeighborsClassifier(n_neighbors=6)\n",
    "\n",
    "#fit the model with train data and target value\n",
    "x = [\n",
    "    [5.9,1.0,5.1,1.8],\n",
    "    [3.4,2.0,1.1,4.8]\n",
    "]\n",
    "print(\"Training data:\\t\", x)\n",
    "\n",
    "knn.fit(iris.data, iris.target)\n",
    "\n",
    "#Store predicted class label for X\n",
    "prediction = knn.predict(x)\n",
    "print(\"Prediction class label:\\t\")"
   ]
  },
  {
   "cell_type": "code",
   "execution_count": null,
   "metadata": {},
   "outputs": [],
   "source": []
  },
  {
   "cell_type": "code",
   "execution_count": null,
   "metadata": {},
   "outputs": [],
   "source": []
  }
 ],
 "metadata": {
  "kernelspec": {
   "display_name": "Python 3",
   "language": "python",
   "name": "python3"
  },
  "language_info": {
   "codemirror_mode": {
    "name": "ipython",
    "version": 3
   },
   "file_extension": ".py",
   "mimetype": "text/x-python",
   "name": "python",
   "nbconvert_exporter": "python",
   "pygments_lexer": "ipython3",
   "version": "3.7.7"
  }
 },
 "nbformat": 4,
 "nbformat_minor": 4
}
