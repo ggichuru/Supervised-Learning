{
 "cells": [
  {
   "cell_type": "code",
   "execution_count": 2,
   "metadata": {},
   "outputs": [],
   "source": [
    "#Assiging features and label variables\n",
    "\n",
    "#First feature \n",
    "weather = ['Sunny', 'Sunny', 'Overcast', 'Rainy', 'Rainy', 'Rainy', 'Overcast',\n",
    "           'Sunny', 'Sunny', 'Rainy', 'Sunny', 'Overcast', 'Overcast', 'Rainy']\n",
    "\n",
    "#Second feature\n",
    "temp = [\n",
    "    'Hot', 'Hot','Hot','Mild','Cool','Cool','Cool', 'Mild', 'Cool', 'Mild','Mild','Mild','Hot','Mild'\n",
    "]\n",
    "\n",
    "#Label or Target variable\n",
    "play = ['No','No','Yes','Yes','Yes','No','Yes','No','Yes','Yes','Yes','Yes','Yes','No']"
   ]
  },
  {
   "cell_type": "code",
   "execution_count": 9,
   "metadata": {},
   "outputs": [],
   "source": [
    "        #ENCODE THE DATA\n",
    "#Create label encoder \n",
    "from sklearn import preprocessing\n",
    "\n",
    "le = preprocessing.LabelEncoder()\n",
    "\n",
    "#Convert string labels to numbers\n",
    "weather_encoded = le.fit_transform(weather)\n",
    "temp_encoded = le.fit_transform(temp)\n",
    "label = le.fit_transform(play)\n",
    "# print('WeatherEncoded:\\t', weather_encoded)\n",
    "# print('TempEncoded:\\t', temp_encoded)\n",
    "\n",
    "#Combine features\n",
    "features = list(zip(weather_encoded, temp_encoded))\n",
    "# print ('Features:\\t', features)"
   ]
  },
  {
   "cell_type": "code",
   "execution_count": 17,
   "metadata": {},
   "outputs": [
    {
     "name": "stdout",
     "output_type": "stream",
     "text": [
      "[1]\n"
     ]
    }
   ],
   "source": [
    "from sklearn.neighbors import KNeighborsClassifier\n",
    "\n",
    "#Create model\n",
    "model = KNeighborsClassifier(n_neighbors=3)\n",
    "\n",
    "#train = fit\n",
    "model.fit(features, label)\n",
    "\n",
    "#predict\n",
    "\n",
    "predicted = model.predict([[0,2]]) #overcast and mild\n",
    "print (predicted)"
   ]
  },
  {
   "cell_type": "code",
   "execution_count": null,
   "metadata": {},
   "outputs": [],
   "source": []
  }
 ],
 "metadata": {
  "kernelspec": {
   "display_name": "Python 3",
   "language": "python",
   "name": "python3"
  },
  "language_info": {
   "codemirror_mode": {
    "name": "ipython",
    "version": 3
   },
   "file_extension": ".py",
   "mimetype": "text/x-python",
   "name": "python",
   "nbconvert_exporter": "python",
   "pygments_lexer": "ipython3",
   "version": "3.7.7"
  }
 },
 "nbformat": 4,
 "nbformat_minor": 4
}
