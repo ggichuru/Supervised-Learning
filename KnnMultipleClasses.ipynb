{
 "cells": [
  {
   "cell_type": "code",
   "execution_count": 17,
   "metadata": {},
   "outputs": [
    {
     "name": "stdout",
     "output_type": "stream",
     "text": [
      "Model One Accuracy:\t 0.6666666666666666\n"
     ]
    }
   ],
   "source": [
    "from sklearn import datasets\n",
    "from sklearn.model_selection import train_test_split\n",
    "from sklearn.neighbors import KNeighborsClassifier\n",
    "from sklearn import metrics\n",
    "\n",
    "#Load wine Dataset\n",
    "wine = datasets.load_wine()\n",
    "\n",
    "        #Explore Data\n",
    "# print(\"Wine Feature names:\\n\", wine.feature_names)\n",
    "# print(\"\\nWine data names:\\n\", wine.data[:5])\n",
    "# print(\"\\nWine Target or label names:\\n\", wine.target_names)\n",
    "# print(\"\\nWine data shape:\\n\", wine.data.shape)\n",
    "# print(\"\\nWine label shape:\\n\", wine.target.shape)\n",
    "\n",
    "    ##Split the Data\n",
    "x_train, x_test, y_train, y_test = train_test_split(wine.data, wine.target, test_size = 0.3)\n",
    "\n",
    "\n",
    "    #Generate model with knn classifier for K=5\n",
    "model1 = KNeighborsClassifier(n_neighbors=5)\n",
    "#train/fit\n",
    "model1.fit(x_train, y_train)\n",
    "#Predict the response for the dataset\n",
    "y_pred = model1.predict(x_test)\n",
    "# print(y_pred)\n",
    "    #Evaluate model accuracy, how often is the classifier correct\n",
    "print('Model One Accuracy:\\t', metrics.accuracy_score(y_test, y_pred))\n",
    "\n",
    "# #model2 k=7\n",
    "# model2 = KNeighborsClassifier(n_neighbors=7)\n",
    "# model2.fit(x_train, y_train)\n",
    "# z_pred = model2.predict(x_test)\n",
    "# print('Model Two Accuracy:\\t', metrics.accuracy_score(y_test, z_pred))"
   ]
  },
  {
   "cell_type": "code",
   "execution_count": null,
   "metadata": {},
   "outputs": [],
   "source": []
  }
 ],
 "metadata": {
  "kernelspec": {
   "display_name": "Python 3",
   "language": "python",
   "name": "python3"
  },
  "language_info": {
   "codemirror_mode": {
    "name": "ipython",
    "version": 3
   },
   "file_extension": ".py",
   "mimetype": "text/x-python",
   "name": "python",
   "nbconvert_exporter": "python",
   "pygments_lexer": "ipython3",
   "version": "3.7.4"
  }
 },
 "nbformat": 4,
 "nbformat_minor": 4
}
